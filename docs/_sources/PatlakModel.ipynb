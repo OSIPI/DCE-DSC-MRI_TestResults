{
 "cells": [
  {
   "cell_type": "markdown",
   "id": "f8c186db",
   "metadata": {},
   "source": [
    "# Patlak Model"
   ]
  },
  {
   "cell_type": "code",
   "execution_count": null,
   "id": "439d9daf",
   "metadata": {
    "tags": [
     "hide-input"
    ]
   },
   "outputs": [],
   "source": [
    "import os\n",
    "import numpy\n",
    "from matplotlib import pyplot\n",
    "import csv\n",
    "import pandas"
   ]
  },
  {
   "cell_type": "markdown",
   "id": "e01dc3ba-8a7a-4410-baa3-76cd4d8a62b2",
   "metadata": {
    "tags": []
   },
   "source": [
    "## Background\n",
    "some background on the method if necessary"
   ]
  },
  {
   "cell_type": "markdown",
   "id": "ada6c8be-a510-4457-9a46-b50ecd706044",
   "metadata": {
    "tags": []
   },
   "source": [
    "## Test data\n",
    "Explain data that is being used\n",
    "Tolerances"
   ]
  },
  {
   "cell_type": "markdown",
   "id": "7591a069-84c9-447c-9f68-07e68d0609ac",
   "metadata": {
    "tags": []
   },
   "source": [
    "## Import data"
   ]
  },
  {
   "cell_type": "markdown",
   "id": "e7fb49a2-5fa3-4069-983f-a226647329a1",
   "metadata": {
    "tags": []
   },
   "source": [
    "## Results"
   ]
  },
  {
   "cell_type": "code",
   "execution_count": 4,
   "id": "6207dbea-df8d-4746-b188-8e30102fcffe",
   "metadata": {},
   "outputs": [],
   "source": [
    "# prepare data for bland-altman like plots"
   ]
  },
  {
   "cell_type": "markdown",
   "id": "0d3fac9c-9071-4504-83f8-f5b9770c5465",
   "metadata": {
    "tags": []
   },
   "source": [
    "## Notes\n",
    "Additional notes/remarks"
   ]
  },
  {
   "cell_type": "markdown",
   "id": "9c4ef437-20f0-41bc-adc2-02e1dfefb9f0",
   "metadata": {
    "tags": []
   },
   "source": [
    "### References"
   ]
  }
 ],
 "metadata": {
  "kernelspec": {
   "display_name": "Python 3 (ipykernel)",
   "language": "python",
   "name": "python3"
  },
  "language_info": {
   "codemirror_mode": {
    "name": "ipython",
    "version": 3
   },
   "file_extension": ".py",
   "mimetype": "text/x-python",
   "name": "python",
   "nbconvert_exporter": "python",
   "pygments_lexer": "ipython3",
   "version": "3.10.0"
  }
 },
 "nbformat": 4,
 "nbformat_minor": 5
}
