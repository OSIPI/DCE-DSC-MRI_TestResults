{
 "cells": [
  {
   "cell_type": "markdown",
   "id": "da6b3492-ddfe-4b84-aabb-17b971197eae",
   "metadata": {},
   "source": [
    "# Contributors"
   ]
  },
  {
   "cell_type": "markdown",
   "id": "d4efb8ce-e1af-4dde-9275-fbda27772fd1",
   "metadata": {},
   "source": [
    "This project is the great work of many volunteers of the perfusion MRI community. The following people contributed to the work, for example by setting up the repository, test files, visualization:\n",
    "\n",
    "- Sudarshan Ragunathan\n",
    "- Michael Berks\n",
    "- Zaki Ahmed\n",
    "- Lucy Kershaw\n",
    "- Oliver Gurney-Champion\n",
    "- Sirisha Tadimalla\n",
    "- Jonathan Arvidsson\n",
    "- Yu Sun\n",
    "- Jesper F. Kallehauge\n",
    "- Ben Dickie\n",
    "- Simon Levy\n",
    "- Laura Bell\n",
    "- Steven Sourbron\n",
    "- Michael J. Thrippleton\n",
    "- Petra J. van Houdt"
   ]
  },
  {
   "cell_type": "markdown",
   "id": "375cba70-b7d4-4a99-b305-9d8fed6eb6df",
   "metadata": {},
   "source": [
    "## Do you also want to contribute? \n",
    "The code collection is an ongoing project. Contributions on different levels are always very welcome.\n",
    "We have now collected the most basic functionalities, but we are aiming to include also more advanced analysis methods or different implementations of already existing subcategories.\n",
    "In addition, the scientific testing can also be extended. The current test data is limited and might not cover all ranges of data. \n",
    "\n",
    "If you would like to contribute to this part of the OSIPI initiative please email the contacts listed on our [website](https://www.osipi.org/task-force-2-3/).\n"
   ]
  },
  {
   "cell_type": "markdown",
   "id": "e93ba264-91dc-403d-97e1-86eb2d5f5bc4",
   "metadata": {},
   "source": [
    "# Acknowledgements"
   ]
  },
  {
   "cell_type": "markdown",
   "id": "1db6400f-6cd4-40aa-9b4c-516c06af186f",
   "metadata": {},
   "source": [
    "We acknowledge Ole Gunnar Johansen and Matthew Orton for contributing additional code and Joanna M. Wardlaw for providing test data. "
   ]
  }
 ],
 "metadata": {
  "kernelspec": {
   "display_name": "Python 3 (ipykernel)",
   "language": "python",
   "name": "python3"
  },
  "language_info": {
   "codemirror_mode": {
    "name": "ipython",
    "version": 3
   },
   "file_extension": ".py",
   "mimetype": "text/x-python",
   "name": "python",
   "nbconvert_exporter": "python",
   "pygments_lexer": "ipython3",
   "version": "3.10.0"
  }
 },
 "nbformat": 4,
 "nbformat_minor": 5
}
