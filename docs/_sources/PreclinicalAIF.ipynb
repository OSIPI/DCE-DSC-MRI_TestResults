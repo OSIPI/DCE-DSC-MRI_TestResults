{
 "cells": [
  {
   "cell_type": "markdown",
   "id": "0b5cdd3b",
   "metadata": {},
   "source": [
    "# Preclinical AIF"
   ]
  },
  {
   "cell_type": "code",
   "execution_count": null,
   "id": "1f8a3809",
   "metadata": {
    "tags": [
     "hide-input"
    ]
   },
   "outputs": [],
   "source": [
    "import os\n",
    "import numpy\n",
    "from matplotlib import pyplot\n",
    "import csv\n",
    "import pandas"
   ]
  },
  {
   "cell_type": "markdown",
   "id": "3ff00d45-06c6-4806-93b3-19df078c4861",
   "metadata": {
    "tags": []
   },
   "source": [
    "## Background\n",
    "some background on the method if necessary"
   ]
  },
  {
   "cell_type": "markdown",
   "id": "a4cbd897-18d4-4cdf-af57-e2d8841fb70c",
   "metadata": {
    "tags": []
   },
   "source": [
    "## Test data\n",
    "Explain data that is being used\n",
    "Tolerances"
   ]
  },
  {
   "cell_type": "markdown",
   "id": "b873a9a3-7551-46b2-ba45-fb28d3e060c9",
   "metadata": {
    "tags": []
   },
   "source": [
    "## Import data"
   ]
  },
  {
   "cell_type": "markdown",
   "id": "f9af71c9-01d3-48b5-8904-e7d88299a861",
   "metadata": {
    "tags": []
   },
   "source": [
    "## Results"
   ]
  },
  {
   "cell_type": "code",
   "execution_count": 4,
   "id": "989123d4-3f3f-4cea-9043-d1d48eb51321",
   "metadata": {},
   "outputs": [],
   "source": [
    "# prepare data for bland-altman like plots"
   ]
  },
  {
   "cell_type": "markdown",
   "id": "f1f0b834-c466-4084-a278-36faf879d2b4",
   "metadata": {
    "tags": []
   },
   "source": [
    "## Notes\n",
    "Additional notes/remarks"
   ]
  },
  {
   "cell_type": "markdown",
   "id": "9ed87475-5275-460d-b9d5-689a89b6c3c1",
   "metadata": {
    "tags": []
   },
   "source": [
    "### References"
   ]
  }
 ],
 "metadata": {
  "kernelspec": {
   "display_name": "Python 3 (ipykernel)",
   "language": "python",
   "name": "python3"
  },
  "language_info": {
   "codemirror_mode": {
    "name": "ipython",
    "version": 3
   },
   "file_extension": ".py",
   "mimetype": "text/x-python",
   "name": "python",
   "nbconvert_exporter": "python",
   "pygments_lexer": "ipython3",
   "version": "3.10.0"
  }
 },
 "nbformat": 4,
 "nbformat_minor": 5
}
