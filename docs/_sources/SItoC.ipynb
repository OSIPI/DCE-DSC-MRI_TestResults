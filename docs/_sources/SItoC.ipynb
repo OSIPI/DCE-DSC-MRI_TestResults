{
 "cells": [
  {
   "cell_type": "markdown",
   "id": "c57536ac",
   "metadata": {},
   "source": [
    "# Signal to Concentration"
   ]
  },
  {
   "cell_type": "code",
   "execution_count": null,
   "id": "1d833889",
   "metadata": {
    "tags": [
     "hide-input"
    ]
   },
   "outputs": [],
   "source": [
    "import os\n",
    "import numpy as np\n",
    "from matplotlib import pyplot as plt\n",
    "import csv\n",
    "import seaborn as sns\n",
    "import pandas as pd\n",
    "from plotting_results_nb import plot_bland_altman, bland_altman_statistics\n",
    "import json\n",
    "from pathlib import Path"
   ]
  },
  {
   "cell_type": "markdown",
   "id": "75ba6b18-91dd-4151-9e93-e50ed38590de",
   "metadata": {
    "tags": []
   },
   "source": [
    "## Background\n",
    "DCE-MRI data are typically acquired with spoiled gradient echo sequences (SPGR). The measured signal intensities can be converted to concentration values using the spoiled gradient echo equation as described in Schabel et al. (Phys Med Biol 2008):\n",
    "\n",
    "$$\n",
    "    S(T_1,T_2^*) = M_0 \\cdot \\frac{\\mathrm{sin}(\\alpha)(1 - e^{-\\mathrm{TR}/T_1}) \\cdot e^{-\\mathrm{TE}/T_2^*}}{1 - e^{-\\mathrm{TR}/T_1} \\cdot \\mathrm{cos}(\\alpha)}\n",
    "$$\n",
    "\n",
    "with $S$ the measured signal intensity for spoiled gradient echo sequences, $T_1$, the longitudinal relaxation time, $T_2^*$ the transverse effective relaxation time,  $\\alpha$ the flip angle, TR, the repitition time, and TE the echo time. \n",
    "\n",
    "By making several simplifications (e.g. $T_2^*$ is negligible) the relative signal enhancement ($\\Xi$) can be expressed as (eq 5 in Schabel et al):\n",
    "\n",
    "$$\n",
    "\\Xi \\approx \\frac{(E_1 - E_{1,0})(\\mathrm{cos}(\\alpha)-1)}{(E_{1,0} - 1)(E_1 \\mathrm{cos}(\\alpha) -1)}\n",
    "$$\n",
    "where $E_{1,0} = e^{-\\mathrm{TR}R_{1,0}}$ and $E_{1} = e^{-\\mathrm{TR}R_{1}}$, $R_1 = 1/T_1$\n",
    "\n",
    "In this way R_1 can be solved to obtain a nonlinear approximation as (eq 6 in Schabel et al):\n",
    "$$\n",
    "R_1^{nl} \\approx - \\frac{1}{\\mathrm{TR}} \\cdot \\mathrm{log}[\\frac{\\Xi(E_{1,0} - 1) + E_{1,0}(1- \\mathrm{cos}(\\alpha))}{1+\\mathrm{cos}(\\alpha)(\\Xi(E_{1,0} - 1)-1)}]\n",
    "$$\n",
    "This leads to a nonlinear approximation of the the concentration $C$ (eq 7 in Schabel et al):\n",
    "$$\n",
    "C^{nl} \\approx \\frac{1}{r_1}(R_1^{nl} - R_{1,0})\n",
    "$$\n",
    "with $r_1$ is the relaxivity of the contrast agent being used.\n",
    "\n",
    "An often used linear approximation (eq (8) in Schabel et al.): \n",
    "$$\n",
    "C^l \\approx \\frac{1}{r_1}(R_{1,0}\\Xi)\n",
    "$$\n",
    "\n",
    "Both linear and nonlinear approximations are used in the current contributions"
   ]
  },
  {
   "cell_type": "markdown",
   "id": "39497be6-9372-43dc-b5f6-bc67c9f714ba",
   "metadata": {
    "tags": []
   },
   "source": [
    "## Test data\n",
    "Signal intensity curves randomly selected from one patient with DCE-MRI of the uterus. They were converted to concentration using code from the University of Edinburgh but with various flip angles, baseline T1 values etc rather than the actual values used in the acquisition, to test a wider range of possibilites.\n",
    "\n",
    "Tolerances: \n",
    "absolute: 0.00001 mM/ relative 0.00001\n",
    "\n",
    "Source: University of Edinburgh, Mechanistic substudy of UCON https://www.birmingham.ac.uk/research/bctu/trials/womens/ucon/ucon-home.aspx used with permission.  \n",
    "Reference to code: Reavey, J.J., Walker, C., Nicol, M., Murray, A.A., Critchley, H.O.D., Kershaw, L.E., Maybin, J.A., 2021. Markers of human endometrial hypoxia can be detected in vivo and ex vivo during physiological menstruation. Hum. Reprod. 36, 941–950."
   ]
  },
  {
   "cell_type": "markdown",
   "id": "846885e1-1419-4b69-8aa8-e22aa8655f66",
   "metadata": {
    "tags": []
   },
   "source": [
    "## Import data"
   ]
  },
  {
   "cell_type": "markdown",
   "id": "622bbdfe-272b-4f42-a4fc-c45857481f99",
   "metadata": {},
   "source": [
    "A JSON named `results-meta.json` is created to isolate the meta information. The following script can read this JSON and construct the corresponding data frame. The JSON contains a list of entries. Each entry contains the `path`, `filename`, `category`, `method` and `author`. To incorporate future results, one can just update this JSON file and re-run the following scripts.\n"
   ]
  },
  {
   "cell_type": "code",
   "execution_count": null,
   "id": "857deab5-0d94-4482-92bb-64d79326899f",
   "metadata": {},
   "outputs": [],
   "source": [
    "# Load the meta data\n",
    "meta = json.load(open(\"../test/results/results-meta.json\"))"
   ]
  },
  {
   "cell_type": "code",
   "execution_count": null,
   "id": "fc3825b6-44cc-4166-aabe-4d2d89d98780",
   "metadata": {},
   "outputs": [],
   "source": [
    "# Loop over each entry and collect the dataframe\n",
    "df = []\n",
    "for entry in meta:\n",
    "    if entry['category'] == 'SI_to_Conc':\n",
    "        fpath, fname, category, method, author = entry.values()\n",
    "        df_entry = pd.read_csv(Path(fpath, fname)).assign(author=author)\n",
    "        df.append(df_entry)\n",
    "    \n",
    "# Concat all entries\n",
    "df = pd.concat(df)"
   ]
  },
  {
   "cell_type": "code",
   "execution_count": null,
   "id": "fa9dd0a0-156d-4473-a012-14aad892d749",
   "metadata": {},
   "outputs": [],
   "source": [
    "# label data source\n",
    "df['source']=''\n",
    "df.loc[df['label'].str.contains('original'),'source']='original'\n",
    "\n",
    "author_list = df.author.unique()\n",
    "no_authors = len(author_list)\n",
    "\n",
    "voxel_list = df.label.unique()\n",
    "no_voxels = len(voxel_list)\n",
    "\n",
    "tolerances = { 'conc': {'atol' : 0.00001, 'rtol': 0.00001 }}\n",
    "dt = 2.5 # temporal resolution; to do, check with LK if this is correct"
   ]
  },
  {
   "cell_type": "markdown",
   "id": "b82d209f-9506-4a0e-aa1a-75e3961617e0",
   "metadata": {
    "tags": []
   },
   "source": [
    "## Results"
   ]
  },
  {
   "cell_type": "markdown",
   "id": "e00caa67-3e41-47a9-ae27-c7f62436672e",
   "metadata": {},
   "source": [
    "Plot the reference concentration time curves"
   ]
  },
  {
   "cell_type": "code",
   "execution_count": null,
   "id": "ec447c95-a018-435a-9339-2aa4c51c5fba",
   "metadata": {},
   "outputs": [],
   "source": [
    "plt.figure()\n",
    "fig, ax = plt.subplots(1, no_voxels, sharex='col', sharey='row', figsize=(20,5))\n",
    "\n",
    "for current_voxel in range(no_voxels):\n",
    "    \n",
    "    subset_data = df[(df['author'] == author_list[0]) & (df['label'] == voxel_list[current_voxel])]\n",
    "    no_time_points = len(subset_data.conc_meas)\n",
    "    time_array = np.arange(0, no_time_points*dt,dt) # to do, check with LK if this is correct\n",
    "\n",
    "    ax[current_voxel].plot(time_array, subset_data.conc_ref, color='black', label='ref')\n",
    "\n",
    "    if current_voxel == 0:\n",
    "        ax[current_voxel].set_ylabel('Concentration (mM)')\n",
    "    if current_voxel == no_voxels-1:\n",
    "        ax[current_voxel].set_xlabel('time (s)')\n",
    "        \n",
    "    ax[current_voxel].set_title(voxel_list[current_voxel])\n",
    "   \n",
    "      \n",
    "ax[no_voxels-1].legend(bbox_to_anchor=(1.04,0.5), loc=\"center left\", fontsize=14)\n",
    "\n",
    "fig.tight_layout()\n",
    "fig.subplots_adjust(left=0.15, top=0.95)\n"
   ]
  },
  {
   "cell_type": "markdown",
   "id": "547850d3-a7bc-4e77-b438-ca0bd4ed9434",
   "metadata": {},
   "source": [
    "Plot bland altman figure of error between output concentration values and reference values vs the reference values. All datapoints are combined into one figure in this case"
   ]
  },
  {
   "cell_type": "code",
   "execution_count": null,
   "id": "da310828-891b-4cc3-b8d3-8113a5be014e",
   "metadata": {},
   "outputs": [],
   "source": [
    "# calculate error between measured and reference R_1 values\n",
    "df['error_conc'] = df['conc_meas'] - df['conc_ref']\n",
    "\n",
    "plt.figure()\n",
    "fig, ax = plt.subplots(1,1, sharey='none', figsize=(9,6))\n",
    "plot_bland_altman(ax, df, tolerances, 'conc', ylim=(-0.000001,0.000001),label_xaxis='$C_{ref}$ (mM)',label_yaxis='$\\Delta $C (mM)')\n",
    "fig.tight_layout()\n",
    "fig.subplots_adjust(left=0.15, top=0.95)\n",
    "\n",
    "                        "
   ]
  },
  {
   "cell_type": "markdown",
   "id": "2a6411aa-5d9c-4153-82ca-0bd157161a29",
   "metadata": {},
   "source": [
    "Calculate bias and limits of agreement for all contributions wrt the reference values. \n",
    "The differences between measured and reference values are really small for the current test data. There are slight differences between contributions, that can be attributed due to slight diferences in implementations."
   ]
  },
  {
   "cell_type": "code",
   "execution_count": null,
   "id": "ec1e8e14-3561-4507-a825-5972fcaf9492",
   "metadata": {},
   "outputs": [],
   "source": [
    "resultsBA = bland_altman_statistics(data=df,par='error_conc',grouptag='author')\n",
    "\n",
    "print('Bias results estimated concentration values combined for all voxels')\n",
    "print(resultsBA)"
   ]
  },
  {
   "cell_type": "markdown",
   "id": "5f5e2f11-5ba5-46ed-b2aa-fb5c0310fd7e",
   "metadata": {
    "tags": []
   },
   "source": [
    "## Notes\n",
    "Additional notes/remarks"
   ]
  },
  {
   "cell_type": "markdown",
   "id": "61465415-93ae-46d0-ab69-cb5baf00ce59",
   "metadata": {
    "tags": []
   },
   "source": [
    "### References\n",
    "\n",
    "Schabel MC and Parker DL \"Uncertainty and bias in contrast concentration measurements using spoiled gradient echo pulse sequences\" Phys Med Biol (2008), doi:10.1088/0031-9155/53/9/010\n",
    "\n"
   ]
  },
  {
   "cell_type": "code",
   "execution_count": null,
   "id": "4a17cedb-6591-4b62-a4fd-4a1edc29b55b",
   "metadata": {},
   "outputs": [],
   "source": []
  },
  {
   "cell_type": "code",
   "execution_count": null,
   "id": "98b4d516-3846-477f-ae59-133e4f2629ad",
   "metadata": {},
   "outputs": [],
   "source": []
  }
 ],
 "metadata": {
  "kernelspec": {
   "display_name": "Python 3 (ipykernel)",
   "language": "python",
   "name": "python3"
  },
  "language_info": {
   "codemirror_mode": {
    "name": "ipython",
    "version": 3
   },
   "file_extension": ".py",
   "mimetype": "text/x-python",
   "name": "python",
   "nbconvert_exporter": "python",
   "pygments_lexer": "ipython3",
   "version": "3.10.0"
  }
 },
 "nbformat": 4,
 "nbformat_minor": 5
}
