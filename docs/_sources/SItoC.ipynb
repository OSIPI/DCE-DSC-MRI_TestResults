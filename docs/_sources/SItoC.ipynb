{
 "cells": [
  {
   "cell_type": "markdown",
   "id": "c57536ac",
   "metadata": {},
   "source": [
    "# Signal to Concentration"
   ]
  },
  {
   "cell_type": "code",
   "execution_count": null,
   "id": "1d833889",
   "metadata": {
    "tags": [
     "hide-input"
    ]
   },
   "outputs": [],
   "source": [
    "import os\n",
    "import numpy\n",
    "from matplotlib import pyplot\n",
    "import csv\n",
    "import pandas"
   ]
  },
  {
   "cell_type": "markdown",
   "id": "75ba6b18-91dd-4151-9e93-e50ed38590de",
   "metadata": {
    "tags": []
   },
   "source": [
    "## Background\n",
    "some background on the method if necessary"
   ]
  },
  {
   "cell_type": "markdown",
   "id": "39497be6-9372-43dc-b5f6-bc67c9f714ba",
   "metadata": {
    "tags": []
   },
   "source": [
    "## Test data\n",
    "Explain data that is being used\n",
    "Tolerances"
   ]
  },
  {
   "cell_type": "markdown",
   "id": "846885e1-1419-4b69-8aa8-e22aa8655f66",
   "metadata": {
    "tags": []
   },
   "source": [
    "## Import data"
   ]
  },
  {
   "cell_type": "markdown",
   "id": "b82d209f-9506-4a0e-aa1a-75e3961617e0",
   "metadata": {
    "tags": []
   },
   "source": [
    "## Results"
   ]
  },
  {
   "cell_type": "code",
   "execution_count": 4,
   "id": "989123d4-3f3f-4cea-9043-d1d48eb51321",
   "metadata": {},
   "outputs": [],
   "source": [
    "# prepare data for bland-altman like plots"
   ]
  },
  {
   "cell_type": "markdown",
   "id": "5f5e2f11-5ba5-46ed-b2aa-fb5c0310fd7e",
   "metadata": {
    "tags": []
   },
   "source": [
    "## Notes\n",
    "Additional notes/remarks"
   ]
  },
  {
   "cell_type": "markdown",
   "id": "61465415-93ae-46d0-ab69-cb5baf00ce59",
   "metadata": {
    "tags": []
   },
   "source": [
    "### References"
   ]
  },
  {
   "cell_type": "code",
   "execution_count": null,
   "id": "4a17cedb-6591-4b62-a4fd-4a1edc29b55b",
   "metadata": {},
   "outputs": [],
   "source": []
  },
  {
   "cell_type": "code",
   "execution_count": null,
   "id": "98b4d516-3846-477f-ae59-133e4f2629ad",
   "metadata": {},
   "outputs": [],
   "source": []
  }
 ],
 "metadata": {
  "kernelspec": {
   "display_name": "Python 3 (ipykernel)",
   "language": "python",
   "name": "python3"
  },
  "language_info": {
   "codemirror_mode": {
    "name": "ipython",
    "version": 3
   },
   "file_extension": ".py",
   "mimetype": "text/x-python",
   "name": "python",
   "nbconvert_exporter": "python",
   "pygments_lexer": "ipython3",
   "version": "3.10.0"
  }
 },
 "nbformat": 4,
 "nbformat_minor": 5
}
