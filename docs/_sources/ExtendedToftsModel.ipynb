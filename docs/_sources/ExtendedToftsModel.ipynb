{
 "cells": [
  {
   "cell_type": "markdown",
   "id": "bdf81c7a",
   "metadata": {
    "pycharm": {
     "name": "#%% md\n"
    },
    "tags": []
   },
   "source": [
    "# Extended Tofts model"
   ]
  },
  {
   "cell_type": "code",
   "execution_count": null,
   "id": "68ea481f-3ce9-4a22-8edc-49d69f75e3d6",
   "metadata": {
    "pycharm": {
     "name": "#%%\n"
    },
    "tags": [
     "hide-input"
    ]
   },
   "outputs": [],
   "source": [
    "# import statements\n",
    "import itertools\n",
    "import os\n",
    "import numpy as np\n",
    "from matplotlib import pyplot as plt\n",
    "import csv\n",
    "import pandas as pd\n",
    "import seaborn as sns\n",
    "from plotting_results_nb import plot_bland_altman, bland_altman_statistics, make_catplot\n",
    "import json\n",
    "from pathlib import Path"
   ]
  },
  {
   "cell_type": "markdown",
   "id": "764a6a72-f25c-4e2b-a7d6-16f3411cc68b",
   "metadata": {
    "pycharm": {
     "name": "#%% md\n"
    },
    "tags": []
   },
   "source": [
    "## Test data\n",
    "\n",
    "Digital reference object of the brain from Bosca et al. 2016.\n",
    "\n",
    "Test case labels: test_vox_T{tumour voxel number}_{SNR},e.g. test_vox_T1_30\n",
    "Selected voxels:\n",
    "- datVIF=alldata[108,121,6,:]\n",
    "- datT1=alldata[121,87,6,:] --> tumour voxel 1\n",
    "- datT2=alldata[156,105,6,:] --> tumour voxel 2\n",
    "- datT3=alldata[139,93,6,:] --> tumour voxel 3\n",
    "\n",
    "SNR was added to obtain data at different SNR (20, 30, 50 and 100).\n",
    "A delayed version of the test data was created by shifting the time curves with 5 time points. This data is labeled as 'delayed' and only used with the models that allow the fitting of a delay.\n",
    "\n",
    "The DRO data are signal values, which were converted to concentration curves using dce_to_r1eff from https://github.com/welcheb/pydcemri/blob/master from David S. Smith\n",
    "\n",
    "Input and reference values were found from the accompanying pdf document, which describes the values per voxel.\n",
    "- T1 blood of 1440 ms\n",
    "- T1 tissue of 1084 for white matter and 1820 for  grey matter, 1000 for T1-T3\n",
    "- TR=5 ms\n",
    "- FA=30\n",
    "- Hct=0.45\n",
    "\n",
    "Tolerances\n",
    "- $v_e$: a_tol=0.05, r_tol=0, start=0.2, bounds=(0,1)\n",
    "- $v_p$: a_tol=0.025, r_tol=0, start=0.01, bounds=(0,1)\n",
    "- $K^{trans}$: a_tol=0.005, r_tol=0.1, start=0.6, bounds=(0,5), units [/min]\n",
    "- delay: a_tol=0.5, r_tol=0, start=0, bounds=(-10,10), units [s]\n",
    "\n",
    "Source: Bosca, Ryan J., and Edward F. Jackson. \"Creating an anthropomorphic digital MR phantom—an extensible tool for comparing and evaluating quantitative imaging algorithms.\" Physics in Medicine & Biology 61.2 (2016): 974."
   ]
  },
  {
   "cell_type": "markdown",
   "id": "7912dafd-651b-48c8-af49-b4097b03749e",
   "metadata": {
    "pycharm": {
     "name": "#%% md\n"
    },
    "tags": []
   },
   "source": [
    "### Visualize test data\n",
    "To get an impression of the test data that was used for the extended Tofts model, below we show the concentration time curves that were the input for the models.\n",
    "Here we show the data from high SNR from the original (first row) DRO and lowest SNR (SNR = 20; second row)."
   ]
  },
  {
   "cell_type": "code",
   "execution_count": null,
   "id": "e11f8e4c-e8f0-45c5-b9d7-64df969ae54f",
   "metadata": {
    "pycharm": {
     "name": "#%%\n"
    }
   },
   "outputs": [],
   "source": [
    "#plot test data\n",
    "filename = ('../test/DCEmodels/data/dce_DRO_data_extended_tofts.csv')\n",
    "# read from CSV to pandas\n",
    "df1 = pd.read_csv(filename)\n",
    "\n",
    "fig, ax = plt.subplots(2, 3, sharex='col', sharey='row', figsize=(15,8))\n",
    "for currentvoxel in range(3):\n",
    "    labelname = 'test_vox_T' + str(currentvoxel+1) + '_highSNR'\n",
    "    testdata = df1[(df1['label']==labelname)]\n",
    "    t = testdata['t'].to_numpy()\n",
    "    t = np.fromstring(t[0], dtype=float, sep=' ')\n",
    "    c = testdata['C'].to_numpy()\n",
    "    c = np.fromstring(c[0], dtype=float, sep=' ')\n",
    "    ax[0,currentvoxel].plot(t, c, color='black', label='highSNR')\n",
    "    ax[0,currentvoxel].set_title(labelname, fontsize=14)\n",
    "    if currentvoxel ==0:\n",
    "        ax[0,currentvoxel].set_ylabel('C (mM)', fontsize=14)\n",
    "    ax[0,currentvoxel].tick_params(axis='x', labelsize=12)\n",
    "    ax[0,currentvoxel].tick_params(axis='y', labelsize=12)\n",
    "\n",
    "    labelname = 'test_vox_T' + str(currentvoxel+1) + '_20'\n",
    "    testdata = df1[(df1['label']==labelname)]\n",
    "    t = testdata['t'].to_numpy()\n",
    "    t = np.fromstring(t[0], dtype=float, sep=' ')\n",
    "    c = testdata['C'].to_numpy()\n",
    "    c = np.fromstring(c[0], dtype=float, sep=' ')\n",
    "    ax[1,currentvoxel].set_title(labelname, fontsize=14)\n",
    "    ax[1,currentvoxel].plot(t, c, color='black', label='SNR 20')\n",
    "    ax[1,currentvoxel].set_xlabel('time (s)', fontsize=14)\n",
    "    if currentvoxel ==0:\n",
    "        ax[1,currentvoxel].set_ylabel('C (mM)', fontsize=14)\n",
    "    ax[1,currentvoxel].tick_params(axis='x', labelsize=12)\n",
    "    ax[1,currentvoxel].tick_params(axis='y', labelsize=12)\n",
    "\n",
    "\n"
   ]
  },
  {
   "cell_type": "markdown",
   "id": "f8da869c-4b53-4a0a-870f-f744463bac53",
   "metadata": {
    "pycharm": {
     "name": "#%% md\n"
    },
    "tags": []
   },
   "source": [
    "## Import data\n",
    "\n",
    "Import the csv files with test results. The source data are labelled and the difference between measured and reference values was calculated."
   ]
  },
  {
   "cell_type": "code",
   "execution_count": null,
   "id": "07a7e871-2b52-42d8-b80a-e987258240c6",
   "metadata": {
    "pycharm": {
     "name": "#%%\n"
    }
   },
   "outputs": [],
   "source": [
    "# Load the meta data\n",
    "meta = json.load(open(\"../test/results-meta.json\"))"
   ]
  },
  {
   "cell_type": "code",
   "execution_count": null,
   "id": "0bddd9c6-07e0-4be3-a76b-08862e44bc73",
   "metadata": {
    "pycharm": {
     "name": "#%%\n"
    },
    "tags": []
   },
   "outputs": [],
   "source": [
    "# Loop over each entry and collect the dataframe\n",
    "df = []\n",
    "for entry in meta:\n",
    "    if (entry['category'] == 'DCEmodels') & (entry['method'] == 'etofts') :\n",
    "        fpath, fname, category, method, author = entry.values()\n",
    "        df_entry = pd.read_csv(Path(fpath, fname)).assign(author=author)\n",
    "        df.append(df_entry)\n",
    "\n",
    "# Concat all entries\n",
    "df = pd.concat(df)"
   ]
  },
  {
   "cell_type": "code",
   "execution_count": null,
   "id": "b86ab933-ac4e-42bb-8c8b-d44762e2d63a",
   "metadata": {
    "pycharm": {
     "name": "#%%\n"
    },
    "tags": []
   },
   "outputs": [],
   "source": [
    "# split delayed and non-delayed data\n",
    "df['delay'] = df['label'].str.contains('_delayed')\n",
    "\n",
    "# label data source\n",
    "df['source']=''\n",
    "df.loc[df['label'].str.contains('highSNR'),'source']='high SNR'\n",
    "df.loc[df['label'].str.contains('_20'),'source']='SNR 20'\n",
    "df.loc[df['label'].str.contains('_30'),'source']='SNR 30'\n",
    "df.loc[df['label'].str.contains('_50'),'source']='SNR 50'\n",
    "df.loc[df['label'].str.contains('_100'),'source']='SNR 100'\n",
    "\n",
    "# label voxels\n",
    "df['voxel']=''\n",
    "df.loc[df['label'].str.contains('test_vox_T1'),'voxel']='voxel 1'\n",
    "df.loc[df['label'].str.contains('test_vox_T2'),'voxel']='voxel 2'\n",
    "df.loc[df['label'].str.contains('test_vox_T3'),'voxel']='voxel 3'\n",
    "\n",
    "author_list = df.author.unique()\n",
    "no_authors = len(author_list)\n",
    "\n",
    "# calculate error between measured and reference values\n",
    "df['error_Ktrans'] = df['Ktrans_meas'] - df['Ktrans_ref']\n",
    "df['error_ve'] = df['ve_meas']- df['ve_ref']\n",
    "df['error_vp'] = df['vp_meas']- df['vp_ref']\n",
    "\n",
    "# tolerances\n",
    "tolerances = { 'Ktrans': {'atol' : 0.005, 'rtol': 0.1 },'ve': {'atol':0.05, 'rtol':0}, 'vp': {'atol':0.025, 'rtol':0}}"
   ]
  },
  {
   "cell_type": "markdown",
   "id": "4223467e-f446-4980-8636-5cc4414e7616",
   "metadata": {
    "pycharm": {
     "name": "#%% md\n"
    },
    "tags": []
   },
   "source": [
    "## Results"
   ]
  },
  {
   "cell_type": "markdown",
   "id": "4cc5cda9-aee5-4757-bac7-519119f4c558",
   "metadata": {
    "pycharm": {
     "name": "#%% md\n"
    },
    "tags": []
   },
   "source": [
    "### Non-delayed data"
   ]
  },
  {
   "cell_type": "markdown",
   "id": "b153e287-600b-4fa4-8dcb-83dd25d54309",
   "metadata": {
    "tags": []
   },
   "source": [
    "Some models allow the fit of a delay. For the tests with non-delayed data, the delay was fixed to 0. \n",
    "The data are shown with a categorial swarm plot, so for each text voxel separately to better appreciate the differences between contributions. Note that, the x-axis is not a continuous axis, but has a label per test voxel. To get an idea of the reference values per test case, the table below refers as a legend for the figure. \n",
    "\n",
    "Note that, one author (OGJ_OsloU_NOR) provided two options to fit the model (LLSQ and NLLS). These were considered separate contributions."
   ]
  },
  {
   "cell_type": "code",
   "execution_count": null,
   "id": "9c3b009a-ec46-4677-843b-2f166dbc2eaa",
   "metadata": {},
   "outputs": [],
   "source": [
    "df.head(n=3)[['voxel','Ktrans_ref','ve_ref', 'vp_ref']]"
   ]
  },
  {
   "cell_type": "code",
   "execution_count": null,
   "id": "5a4a5189-41ae-4382-9b6f-0444cbc8d602",
   "metadata": {
    "tags": [
     "hide-input"
    ]
   },
   "outputs": [],
   "source": [
    "# set-up styling for seaborn plots\n",
    "#sns.set(font_scale=1.5)\n",
    "#sns.set_style(\"whitegrid\")\n",
    "sns.set_style(\"ticks\")\n",
    "sns.set_context(\"talk\", rc={\"figure.figsize\": (10,8)})\n",
    "plotopts = {\"hue\":\"author\",\n",
    "            \"col\":\"source\",\n",
    "            \"col_order\":[\"SNR 20\",\"SNR 30\",\"SNR 50\",\"SNR 100\",\"high SNR\"],\n",
    "            \"dodge\":True,\n",
    "            \"col_wrap\":3,\n",
    "            \"s\":100,\n",
    "            \"height\":4,\n",
    "            \"aspect\":1.25\n",
    "           }"
   ]
  },
  {
   "cell_type": "code",
   "execution_count": null,
   "id": "840297c4-f093-4a51-a11d-dd5cee938823",
   "metadata": {},
   "outputs": [],
   "source": [
    "# Instead of a regular bland-altman plot we opted for a catplot + swarm for these results.\n",
    "# In this way we can appreciate the results of the different contributions per test case better.\n",
    "# The downside is that the values of the test cases are not obvious.\n",
    "# This might be something to improve upon at a later stage\n",
    "\n",
    "make_catplot(x='voxel', y=\"error_Ktrans\", data=df[~df['delay']], \n",
    "             ylabel=\"$\\Delta$ $K^{trans}$ ($min^{-1}$)\", **plotopts)"
   ]
  },
  {
   "cell_type": "code",
   "execution_count": null,
   "id": "fc97aa6a-1895-4fea-88cd-7b3d9f465c90",
   "metadata": {},
   "outputs": [],
   "source": [
    "# same for ve\n",
    "make_catplot(x='voxel', y=\"error_ve\", data=df[~df['delay']], \n",
    "             ylabel=\"$\\Delta$ $v_{e}$ (-)\", **plotopts)"
   ]
  },
  {
   "cell_type": "code",
   "execution_count": null,
   "id": "fb238272-9a0a-48c7-be5b-76031d178d87",
   "metadata": {},
   "outputs": [],
   "source": [
    "# same for vp\n",
    "make_catplot(x='voxel', y=\"error_vp\", data=df[~df['delay']], \n",
    "             ylabel=\"$\\Delta$ $v_{p}$ (-)\", **plotopts)"
   ]
  },
  {
   "cell_type": "markdown",
   "id": "e4ebb4cd-c41e-4b8a-937b-1b394286dd31",
   "metadata": {
    "pycharm": {
     "name": "#%% md\n"
    }
   },
   "source": [
    "Bias results estimated $K^{trans}$ values combined for all voxels (low and high SNR)"
   ]
  },
  {
   "cell_type": "code",
   "execution_count": null,
   "id": "297d6bba-0cfe-4004-a952-a40a047dcb5e",
   "metadata": {
    "pycharm": {
     "name": "#%%\n"
    },
    "tags": []
   },
   "outputs": [],
   "source": [
    "resultsBA = bland_altman_statistics(data=df[~df['delay']],par='error_Ktrans',grouptag='author')\n",
    "print(resultsBA)"
   ]
  },
  {
   "cell_type": "markdown",
   "id": "74e4a244-ae84-46aa-8d75-489cecc2f5ac",
   "metadata": {
    "pycharm": {
     "name": "#%% md\n"
    }
   },
   "source": [
    "Bias results estimated $v_e$ values combined for all voxels (low and high SNR)"
   ]
  },
  {
   "cell_type": "code",
   "execution_count": null,
   "id": "fed04f89-2023-4547-9dfa-3f6e5c7b5b02",
   "metadata": {
    "pycharm": {
     "name": "#%%\n"
    },
    "tags": []
   },
   "outputs": [],
   "source": [
    "resultsBA = bland_altman_statistics(data=df[~df['delay']],par='error_ve',grouptag='author')\n",
    "print(resultsBA)"
   ]
  },
  {
   "cell_type": "markdown",
   "id": "c7a2b566-7a78-42d3-bd01-396e42335c20",
   "metadata": {
    "pycharm": {
     "name": "#%% md\n"
    }
   },
   "source": [
    "Bias results estimated $v_p$ values combined for all voxels (low and high SNR)"
   ]
  },
  {
   "cell_type": "code",
   "execution_count": null,
   "id": "3ea24ff9-717a-4422-a066-40df95ba2804",
   "metadata": {
    "pycharm": {
     "name": "#%%\n"
    }
   },
   "outputs": [],
   "source": [
    "resultsBA = bland_altman_statistics(data=df[~df['delay']],par='error_vp',grouptag='author')\n",
    "print(resultsBA)"
   ]
  },
  {
   "cell_type": "markdown",
   "id": "14b95c8e-26ae-4847-ba31-7256a7dd6dbe",
   "metadata": {
    "pycharm": {
     "name": "#%% md\n"
    }
   },
   "source": [
    "### Delayed results\n",
    "\n",
    "Some contributions allowed the fitting of a delay. For those, additional tests with a delay were performed."
   ]
  },
  {
   "cell_type": "code",
   "execution_count": null,
   "id": "b8652b92-236c-4dcd-82f2-2d6308d7e6d6",
   "metadata": {},
   "outputs": [],
   "source": [
    "# Ktrans\n",
    "make_catplot(x='voxel', y=\"error_Ktrans\", data=df[df['delay']], \n",
    "             ylabel=\"$\\Delta$ $K^{trans}$ ($min^{-1}$)\", **plotopts)"
   ]
  },
  {
   "cell_type": "code",
   "execution_count": null,
   "id": "52ed8837-b75b-495a-af20-6f848f846e0d",
   "metadata": {},
   "outputs": [],
   "source": [
    "# same for ve\n",
    "make_catplot(x='voxel', y=\"error_ve\", data=df[df['delay']], \n",
    "             ylabel=\"$\\Delta$ $v_{e}$ (-)\", **plotopts)"
   ]
  },
  {
   "cell_type": "code",
   "execution_count": null,
   "id": "8d67323d-11d4-4dc2-92b7-d4e5f2317143",
   "metadata": {},
   "outputs": [],
   "source": [
    "# same for vp\n",
    "make_catplot(x='voxel', y=\"error_vp\", data=df[df['delay']], \n",
    "             ylabel=\"$\\Delta$ $v_{p}$ (-)\", **plotopts)"
   ]
  },
  {
   "cell_type": "markdown",
   "id": "fa0e9264-6ca0-4f5b-9dfc-54f62013de76",
   "metadata": {
    "pycharm": {
     "name": "#%% md\n"
    }
   },
   "source": [
    "Bias results estimated $K^{trans}$ values combined for all voxels (low and high SNR)"
   ]
  },
  {
   "cell_type": "code",
   "execution_count": null,
   "id": "6851f6bd-2041-4b66-8ad4-e4cb4511b824",
   "metadata": {
    "pycharm": {
     "name": "#%%\n"
    },
    "tags": []
   },
   "outputs": [],
   "source": [
    "resultsBA = bland_altman_statistics(data=df[df['delay']],par='error_Ktrans',grouptag='author')\n",
    "print(resultsBA)"
   ]
  },
  {
   "cell_type": "markdown",
   "id": "0d536c4c-b39f-4114-9d80-d6da3c5617a9",
   "metadata": {
    "pycharm": {
     "name": "#%% md\n"
    }
   },
   "source": [
    "Bias results estimated $v_e$ values combined for all voxels (low and high SNR)"
   ]
  },
  {
   "cell_type": "code",
   "execution_count": null,
   "id": "081b9f75-b981-4f3e-acea-4250392f21b0",
   "metadata": {
    "pycharm": {
     "name": "#%%\n"
    },
    "tags": []
   },
   "outputs": [],
   "source": [
    "resultsBA = bland_altman_statistics(data=df[df['delay']],par='error_ve',grouptag='author')\n",
    "print(resultsBA)"
   ]
  },
  {
   "cell_type": "markdown",
   "id": "75e08a3e-e8d5-4620-bc8f-7e87253b004e",
   "metadata": {
    "pycharm": {
     "name": "#%% md\n"
    }
   },
   "source": [
    "Bias results estimated $v_p$ values combined for all voxels (low and high SNR)"
   ]
  },
  {
   "cell_type": "code",
   "execution_count": null,
   "id": "73493ac7-c651-4655-b8be-a47824ba1966",
   "metadata": {
    "pycharm": {
     "name": "#%%\n"
    }
   },
   "outputs": [],
   "source": [
    "resultsBA = bland_altman_statistics(data=df[df['delay']],par='error_vp',grouptag='author')\n",
    "print(resultsBA)"
   ]
  },
  {
   "cell_type": "markdown",
   "id": "2cde3574-56dc-41fd-a3ba-b5c342d06690",
   "metadata": {
    "pycharm": {
     "name": "#%% md\n"
    },
    "tags": []
   },
   "source": [
    "## Notes\n",
    "Additional notes/remarks"
   ]
  },
  {
   "cell_type": "markdown",
   "id": "a894e084",
   "metadata": {
    "pycharm": {
     "name": "#%% md\n"
    }
   },
   "source": []
  },
  {
   "cell_type": "markdown",
   "id": "dae511b9-2c81-494f-bd11-1aa0ddd129a5",
   "metadata": {
    "pycharm": {
     "name": "#%% md\n"
    },
    "tags": []
   },
   "source": [
    "### References"
   ]
  }
 ],
 "metadata": {
  "kernelspec": {
   "display_name": "Python 3 (ipykernel)",
   "language": "python",
   "name": "python3"
  },
  "language_info": {
   "codemirror_mode": {
    "name": "ipython",
    "version": 3
   },
   "file_extension": ".py",
   "mimetype": "text/x-python",
   "name": "python",
   "nbconvert_exporter": "python",
   "pygments_lexer": "ipython3",
   "version": "3.9.13"
  }
 },
 "nbformat": 4,
 "nbformat_minor": 5
}
