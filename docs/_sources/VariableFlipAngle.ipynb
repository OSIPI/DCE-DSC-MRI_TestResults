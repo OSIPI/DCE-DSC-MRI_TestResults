{
 "cells": [
  {
   "cell_type": "markdown",
   "id": "b8070e3f",
   "metadata": {},
   "source": [
    "# Variable flip angle mapping"
   ]
  },
  {
   "cell_type": "code",
   "execution_count": null,
   "id": "0e75e09b",
   "metadata": {
    "tags": [
     "hide-input"
    ]
   },
   "outputs": [],
   "source": [
    "# import statements\n",
    "import os\n",
    "import numpy\n",
    "from matplotlib import pyplot\n",
    "import csv\n",
    "import pandas"
   ]
  },
  {
   "cell_type": "markdown",
   "id": "ee127dbe-5363-45ea-aeb5-b8d5d69ce892",
   "metadata": {},
   "source": [
    "## Background\n",
    "some background on the method if necessary"
   ]
  },
  {
   "cell_type": "markdown",
   "id": "db8fca6f-9fe6-4e48-8246-926d17c488ab",
   "metadata": {},
   "source": [
    "## Test data\n",
    "Explain data that is being used\n",
    "Tolerances"
   ]
  },
  {
   "cell_type": "markdown",
   "id": "5331ac95-f908-47c3-9015-3d21b37146e8",
   "metadata": {},
   "source": [
    "## Import data"
   ]
  },
  {
   "cell_type": "markdown",
   "id": "3159f105",
   "metadata": {},
   "source": [
    "## Linear fit methods"
   ]
  },
  {
   "cell_type": "markdown",
   "id": "8ad8585b-f2e5-47f7-a3f3-887e85d1ff67",
   "metadata": {},
   "source": [
    "### DRO data"
   ]
  },
  {
   "cell_type": "code",
   "execution_count": 4,
   "id": "f733dc57-e0d7-45dd-bd7a-060ae2e3bead",
   "metadata": {},
   "outputs": [],
   "source": [
    "# prepare data for bland-altman like plots"
   ]
  },
  {
   "cell_type": "markdown",
   "id": "b4c91cfe-6f3f-4b40-91d8-4b00a1d44bbf",
   "metadata": {},
   "source": [
    "### In-vivo data"
   ]
  },
  {
   "cell_type": "markdown",
   "id": "b4b8ebcf",
   "metadata": {},
   "source": [
    "## Nonlinear fit methods"
   ]
  },
  {
   "cell_type": "markdown",
   "id": "b85bfd14",
   "metadata": {
    "tags": []
   },
   "source": [
    "### DRO results\n"
   ]
  },
  {
   "cell_type": "markdown",
   "id": "cef4fe0d",
   "metadata": {
    "tags": []
   },
   "source": [
    "### In-vivo results\n"
   ]
  },
  {
   "cell_type": "markdown",
   "id": "e3ab857d-deca-4c4a-b7c4-60b8bdb16e54",
   "metadata": {},
   "source": [
    "## Notes\n",
    "Additional notes/remarks"
   ]
  },
  {
   "cell_type": "markdown",
   "id": "b54912b4-ae3f-483b-83b6-58bf7cb4d561",
   "metadata": {},
   "source": [
    "### References"
   ]
  }
 ],
 "metadata": {
  "kernelspec": {
   "display_name": "Python 3 (ipykernel)",
   "language": "python",
   "name": "python3"
  },
  "language_info": {
   "codemirror_mode": {
    "name": "ipython",
    "version": 3
   },
   "file_extension": ".py",
   "mimetype": "text/x-python",
   "name": "python",
   "nbconvert_exporter": "python",
   "pygments_lexer": "ipython3",
   "version": "3.10.0"
  }
 },
 "nbformat": 4,
 "nbformat_minor": 5
}
