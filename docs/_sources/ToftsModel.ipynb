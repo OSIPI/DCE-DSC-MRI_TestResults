{
 "cells": [
  {
   "cell_type": "markdown",
   "id": "96543915",
   "metadata": {},
   "source": [
    "# Tofts model"
   ]
  },
  {
   "cell_type": "code",
   "execution_count": null,
   "id": "5e675de8",
   "metadata": {
    "tags": [
     "hide-input"
    ]
   },
   "outputs": [],
   "source": [
    "import os\n",
    "import numpy\n",
    "from matplotlib import pyplot\n",
    "import csv\n",
    "import pandas"
   ]
  },
  {
   "cell_type": "markdown",
   "id": "c2319d6f-b74e-43e0-9142-7b40ec57213f",
   "metadata": {
    "tags": []
   },
   "source": [
    "## Background\n",
    "some background on the method if necessary"
   ]
  },
  {
   "cell_type": "markdown",
   "id": "89b39b8d-26e0-4b7a-91cb-a35f1c566c0a",
   "metadata": {
    "jp-MarkdownHeadingCollapsed": true,
    "tags": []
   },
   "source": [
    "## Test data\n",
    "Explain data that is being used\n",
    "Tolerances"
   ]
  },
  {
   "cell_type": "markdown",
   "id": "97305d6c-b137-4fc1-aca8-d3e5c7459322",
   "metadata": {
    "jp-MarkdownHeadingCollapsed": true,
    "tags": []
   },
   "source": [
    "## Import data"
   ]
  },
  {
   "cell_type": "markdown",
   "id": "e130e2d6-fcfc-42e1-8104-fc5433b443ca",
   "metadata": {
    "tags": []
   },
   "source": [
    "## Results"
   ]
  },
  {
   "cell_type": "code",
   "execution_count": 4,
   "id": "e030b384-bf11-4a55-8e0a-c8e9c02492dd",
   "metadata": {},
   "outputs": [],
   "source": [
    "# prepare data for bland-altman like plots"
   ]
  },
  {
   "cell_type": "markdown",
   "id": "f37bd2b6-f399-4358-8cd6-bb4f8c746c78",
   "metadata": {
    "tags": []
   },
   "source": [
    "## Notes\n",
    "Additional notes/remarks"
   ]
  },
  {
   "cell_type": "markdown",
   "id": "4e681cb2-adc4-42be-b1aa-b72c1c85c0a5",
   "metadata": {
    "tags": []
   },
   "source": [
    "### References"
   ]
  }
 ],
 "metadata": {
  "kernelspec": {
   "display_name": "Python 3 (ipykernel)",
   "language": "python",
   "name": "python3"
  },
  "language_info": {
   "codemirror_mode": {
    "name": "ipython",
    "version": 3
   },
   "file_extension": ".py",
   "mimetype": "text/x-python",
   "name": "python",
   "nbconvert_exporter": "python",
   "pygments_lexer": "ipython3",
   "version": "3.10.0"
  }
 },
 "nbformat": 4,
 "nbformat_minor": 5
}
