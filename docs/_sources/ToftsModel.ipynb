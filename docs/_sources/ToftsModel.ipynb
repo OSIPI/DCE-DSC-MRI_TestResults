{
 "cells": [
  {
   "cell_type": "markdown",
   "id": "96543915",
   "metadata": {},
   "source": [
    "# Tofts model"
   ]
  },
  {
   "cell_type": "code",
   "execution_count": null,
   "id": "5e675de8",
   "metadata": {
    "tags": [
     "hide-input"
    ]
   },
   "outputs": [],
   "source": [
    "# import statements\n",
    "import os\n",
    "import numpy as np\n",
    "from matplotlib import pyplot as plt\n",
    "import csv\n",
    "import pandas as pd\n",
    "import seaborn as sns\n",
    "from plotting_results_nb import plot_bland_altman, bland_altman_statistics, make_catplot\n",
    "import json\n",
    "from pathlib import Path"
   ]
  },
  {
   "cell_type": "markdown",
   "id": "89b39b8d-26e0-4b7a-91cb-a35f1c566c0a",
   "metadata": {
    "tags": []
   },
   "source": [
    "## Test data\n",
    "The QIBA DRO data was used for testing of the Tofts model.\n",
    "\n",
    "Version: QIBA_v11_Tofts from MR Modality Datasets/Dynamic Contrast Enhanced (DCE) MRI/DCE-MRI DRO Data and Code/DCE-MRI DRO Data (Daniel Barboriak) /QIBA_v11_Tofts/QIBA_v11_Tofts_GE/T1_tissue_500/DICOM_dyn\n",
    "\n",
    "Test case labels: test_vox_T{parameter combination}_{SNR}, e.g. test_vox_T5_30\n",
    "\n",
    "To get the high SNR dataset, data was averaged as follows:\n",
    "- datVIF = data[:, :9, :]\n",
    "- datVIF = np.mean(datVIF, axis=(0, 1))\n",
    "- datT1 = np.mean(data[44:49, 13:18, :], (0, 1))\n",
    "- datT2 = np.mean(data[32:37, 21:26, :], (0, 1))\n",
    "- datT3 = np.mean(data[42:47, 23:28, :], (0, 1))\n",
    "- datT4 = np.mean(data[22:27, 32:37, :], (0, 1))\n",
    "- datT5 = np.mean(data[22:27, 43:48, :], (0, 1))\n",
    "\n",
    "Noise was added to the high-SNR data to obtain data at different SNRs. SNR-levels of 20, 30, 50, and 100 were included.\n",
    "\n",
    "A delayed version of the test data was created by shifting the time curves with 5 time points. This data is labeled as 'delayed' and only used with the models that allow the fitting of a delay.\n",
    "\n",
    "The DRO data are signal values, which were converted to concentration curves using dce_to_r1eff from https://github.com/welcheb/pydcemri/blob/master from David S. Smith\n",
    "\n",
    "Input values and reference values were found from the accompanying pdf document, which describes the values per voxel. \n",
    "- T1 blood of 1440\n",
    "- T1 tissue of 500\n",
    "- TR=5 ms\n",
    "- FA=30\n",
    "- Hct=0.45\n",
    "\n",
    "\n",
    "Tolerances\n",
    "- $v_e$: a_tol=0.05, r_tol=0, start=0.2, bounds=(0,1)\n",
    "- $K^{trans}$: a_tol=0.005, r_tol=0.1, start=0.6, bounds=(0,5), units [/min]\n",
    "- delay: a_tol=0.5, r_tol=0, start=0, bounds=(-10,10), units [s]\n",
    "\n",
    "\n",
    "source: https://qibawiki.rsna.org/images/1/14/QIBA_DRO_2015_v1.42.pdf and https://qidw.rsna.org/#collection/594810551cac0a4ec8ffe574/folder/5e20ccb8b3467a6a9210e9ff"
   ]
  },
  {
   "cell_type": "markdown",
   "id": "8dc745df-e052-4fb9-8ede-3b93c29fa7a0",
   "metadata": {
    "tags": []
   },
   "source": [
    "### Visualize test data\n",
    "To get an impression of the test data that was used for the Tofts model, below we show the concentration time curves that were the input for the models.  \n",
    "Here we show the data from high SNR from the original (first row) DRO and lowest SNR (SNR = 20; second row)."
   ]
  },
  {
   "cell_type": "code",
   "execution_count": null,
   "id": "afd533a3-8883-40ba-8e15-24be59b433ac",
   "metadata": {},
   "outputs": [],
   "source": [
    "#plot test data. Load csv file of the test data.\n",
    "filename = ('../test/DCEmodels/data/dce_DRO_data_tofts.csv')\n",
    "# read from CSV to pandas\n",
    "df1 = pd.read_csv(filename)\n",
    "\n",
    "fig, ax = plt.subplots(2, 5, sharex='col', sharey='row', figsize=(15,8))\n",
    "for currentvoxel in range(5):\n",
    "    \n",
    "    # first row is high SNR data\n",
    "    labelname = 'test_vox_T' + str(currentvoxel+1) + '_highSNR'\n",
    "    testdata = df1[(df1['label']==labelname)]\n",
    "    t = testdata['t'].to_numpy()\n",
    "    t = np.fromstring(t[0], dtype=float, sep=' ')\n",
    "    c = testdata['C'].to_numpy()\n",
    "    c = np.fromstring(c[0], dtype=float, sep=' ')\n",
    "    ax[0,currentvoxel].plot(t, c, color='black', label='highSNR')\n",
    "    ax[0,currentvoxel].set_title(labelname, fontsize=14)\n",
    "    if currentvoxel ==0:\n",
    "        ax[0,currentvoxel].set_ylabel('C (mM)', fontsize=14)\n",
    "    ax[0,currentvoxel].tick_params(axis='x', labelsize=12)\n",
    "    ax[0,currentvoxel].tick_params(axis='y', labelsize=12)\n",
    "\n",
    "    \n",
    "    # second row is data with SNR of 20\n",
    "    labelname = 'test_vox_T' + str(currentvoxel+1) + '_20'\n",
    "    testdata = df1[(df1['label']==labelname)]\n",
    "    t = testdata['t'].to_numpy()\n",
    "    t = np.fromstring(t[0], dtype=float, sep=' ')\n",
    "    c = testdata['C'].to_numpy()\n",
    "    c = np.fromstring(c[0], dtype=float, sep=' ')\n",
    "    ax[1,currentvoxel].set_title(labelname, fontsize=14)\n",
    "    ax[1,currentvoxel].plot(t, c, color='black', label='SNR 20')\n",
    "    ax[1,currentvoxel].set_xlabel('time (s)', fontsize=14)\n",
    "    if currentvoxel ==0:\n",
    "        ax[1,currentvoxel].set_ylabel('C (mM)', fontsize=14)\n",
    "    ax[1,currentvoxel].tick_params(axis='x', labelsize=12)\n",
    "    ax[1,currentvoxel].tick_params(axis='y', labelsize=12)\n",
    "   \n",
    "    "
   ]
  },
  {
   "cell_type": "markdown",
   "id": "97305d6c-b137-4fc1-aca8-d3e5c7459322",
   "metadata": {
    "tags": []
   },
   "source": [
    "## Import data\n",
    "\n",
    "Import the csv files with test results. The source data are labelled and the difference between measured and reference values was calculated."
   ]
  },
  {
   "cell_type": "code",
   "execution_count": null,
   "id": "7fc36c87-1846-4bd9-bd08-df7708526199",
   "metadata": {},
   "outputs": [],
   "source": [
    "# Load the meta data\n",
    "meta = json.load(open(\"../test/results-meta.json\"))"
   ]
  },
  {
   "cell_type": "code",
   "execution_count": null,
   "id": "40329b4d-a6fc-4f54-80af-4da1bdd0b3c8",
   "metadata": {},
   "outputs": [],
   "source": [
    "# Loop over each entry and collect the dataframe\n",
    "df = []\n",
    "for entry in meta:\n",
    "    if (entry['category'] == 'DCEmodels') & (entry['method'] == 'tofts') :\n",
    "        fpath, fname, category, method, author = entry.values()\n",
    "        df_entry = pd.read_csv(Path(fpath, fname)).assign(author=author)\n",
    "        df.append(df_entry)\n",
    "    \n",
    "# Concat all entries\n",
    "df = pd.concat(df)"
   ]
  },
  {
   "cell_type": "code",
   "execution_count": null,
   "id": "9b429c92-81cc-45e6-8d27-f6754a5428d2",
   "metadata": {
    "tags": []
   },
   "outputs": [],
   "source": [
    "# split delayed and non-delayed data\n",
    "df['delay'] = df['label'].str.contains('_delayed')\n",
    "\n",
    "# label data source\n",
    "df['source']=''\n",
    "df.loc[df['label'].str.contains('highSNR'),'source']='high SNR'\n",
    "df.loc[df['label'].str.contains('_20'),'source']='SNR 20'\n",
    "df.loc[df['label'].str.contains('_30'),'source']='SNR 30' \n",
    "df.loc[df['label'].str.contains('_50'),'source']='SNR 50' \n",
    "df.loc[df['label'].str.contains('_100'),'source']='SNR 100' \n",
    "\n",
    "# label voxels\n",
    "df['voxel']=''\n",
    "df.loc[df['label'].str.contains('test_vox_T1'),'voxel']='voxel 1'\n",
    "df.loc[df['label'].str.contains('test_vox_T2'),'voxel']='voxel 2'\n",
    "df.loc[df['label'].str.contains('test_vox_T3'),'voxel']='voxel 3'\n",
    "df.loc[df['label'].str.contains('test_vox_T4'),'voxel']='voxel 4' \n",
    "df.loc[df['label'].str.contains('test_vox_T5'),'voxel']='voxel 5' \n",
    "\n",
    "author_list = df.author.unique()\n",
    "no_authors = len(author_list)\n",
    "\n",
    "# calculate error/difference between measured and reference values\n",
    "df['error_Ktrans'] = df['Ktrans_meas'] - df['Ktrans_ref']\n",
    "df['error_ve'] = df['ve_meas']- df['ve_ref']\n",
    "\n",
    "# tolerances\n",
    "tolerances = { 'Ktrans': {'atol' : 0.005, 'rtol': 0.1 },'ve': {'atol':0.05, 'rtol':0}, 'delay': {'atol' : 0.5, 'rtol': 0 }}"
   ]
  },
  {
   "cell_type": "markdown",
   "id": "e130e2d6-fcfc-42e1-8104-fc5433b443ca",
   "metadata": {
    "tags": []
   },
   "source": [
    "## Results"
   ]
  },
  {
   "cell_type": "markdown",
   "id": "46cd29c3-325d-46ab-b09a-524fc9dd9ba4",
   "metadata": {},
   "source": [
    "### Non-delayed results"
   ]
  },
  {
   "cell_type": "markdown",
   "id": "514dce67-709c-464c-af4e-e1199d69f171",
   "metadata": {
    "tags": []
   },
   "source": [
    "Some models allow the fit of a delay. For the tests with non-delayed data, the delay was fixed to 0. \n",
    "The data are shown with a categorial swarm plot, so for each text voxel separately to better appreciate the differences between contributions. Note that, the x-axis is not a continuous axis, but has a label per test voxel. To get an idea of the reference values per test case, the table below refers as a legend for the figure. \n",
    "\n",
    "Note that, one author (OGJ_OsloU_Norway) provided two options to fit the model (LLSQ and NLLS). These were considered separate contributions."
   ]
  },
  {
   "cell_type": "code",
   "execution_count": null,
   "id": "93b2581a-b423-4186-a42c-ac20142dc706",
   "metadata": {},
   "outputs": [],
   "source": [
    "df.head(n=5)[['voxel','Ktrans_ref','ve_ref']]"
   ]
  },
  {
   "cell_type": "code",
   "execution_count": null,
   "id": "94aad4b1-5af5-4456-aed4-7438d01bda41",
   "metadata": {
    "tags": [
     "hide-input"
    ]
   },
   "outputs": [],
   "source": [
    "# set-up styling for seaborn plots\n",
    "sns.set(font_scale=1.5)\n",
    "#sns.set_style(\"whitegrid\")\n",
    "sns.set_style(\"ticks\")\n",
    "plotopts = {\"hue\":\"author\",\n",
    "            \"col\":\"source\",\n",
    "            \"col_order\":[\"SNR 20\",\"SNR 30\",\"SNR 50\",\"SNR 100\",\"high SNR\"],\n",
    "            \"dodge\":True,\n",
    "            \"col_wrap\":3,\n",
    "            \"s\":100,\n",
    "            \"height\":4,\n",
    "            \"aspect\":1.25\n",
    "           }"
   ]
  },
  {
   "cell_type": "code",
   "execution_count": null,
   "id": "1e510924-e4bb-4982-9bfc-92fc2121ddab",
   "metadata": {},
   "outputs": [],
   "source": [
    "# Instead of a regular bland-altman plot we opted for a catplot + swarm for these results. \n",
    "# In this way we can appreciate the results of the different contributions per test case better.\n",
    "# The downside is that the values of the test cases are not obvious. This might be something to improve upon at a later stage\n",
    "\n",
    "make_catplot(x='voxel', y=\"error_Ktrans\", data=df[~df['delay']], \n",
    "             ylabel=\"$\\Delta$ $K^{trans}$ ($min^{-1}$)\", **plotopts)"
   ]
  },
  {
   "cell_type": "code",
   "execution_count": null,
   "id": "cfa3a9c4-a6ea-4108-826b-22ee1ef4c8e4",
   "metadata": {},
   "outputs": [],
   "source": [
    "# same for v_e\n",
    "make_catplot(x='voxel', y=\"error_ve\", data=df[~df['delay']], \n",
    "             ylabel=\"$\\Delta$ $v_{e}$ (-)\", **plotopts)"
   ]
  },
  {
   "cell_type": "markdown",
   "id": "fc657951-3748-403b-b236-02de4ff7444a",
   "metadata": {},
   "source": [
    "Bias results estimated $K^{trans}$ values combined for all voxels and all SNR levels"
   ]
  },
  {
   "cell_type": "code",
   "execution_count": null,
   "id": "12ab6a09-b6f8-4691-9527-395fa150c33d",
   "metadata": {},
   "outputs": [],
   "source": [
    "resultsBA = bland_altman_statistics(data=df[~df['delay']],par='error_Ktrans',grouptag='author')\n",
    "print(resultsBA)"
   ]
  },
  {
   "cell_type": "markdown",
   "id": "9194c61e-57a2-48c9-9fe9-983d7775c419",
   "metadata": {},
   "source": [
    "Bias results estimated $v_e$ values combined for all voxels and all SNR levels"
   ]
  },
  {
   "cell_type": "code",
   "execution_count": null,
   "id": "4a4c5620-d333-4743-85d6-241c48209b0a",
   "metadata": {
    "tags": []
   },
   "outputs": [],
   "source": [
    "resultsBA = bland_altman_statistics(data=df[~df['delay']],par='error_ve',grouptag='author')\n",
    "print(resultsBA)"
   ]
  },
  {
   "cell_type": "markdown",
   "id": "b29c7cff-5b2f-42f7-80ae-ef9eadf879f5",
   "metadata": {},
   "source": [
    "### Delayed results\n",
    "\n",
    "Some contributions allowed the fitting of a delay. For those, additional tests with a delay were performed."
   ]
  },
  {
   "cell_type": "code",
   "execution_count": null,
   "id": "c5a511b8-4891-4d18-8508-447ebc312bfd",
   "metadata": {
    "tags": []
   },
   "outputs": [],
   "source": [
    "make_catplot(x='voxel', y=\"error_Ktrans\", data=df[df['delay']], \n",
    "             ylabel=\"$\\Delta$ $K^{trans}$ ($min^{-1}$)\", **plotopts)"
   ]
  },
  {
   "cell_type": "code",
   "execution_count": null,
   "id": "2379ee16-f091-439d-8fab-311031dc7a05",
   "metadata": {
    "tags": []
   },
   "outputs": [],
   "source": [
    "make_catplot(x='voxel', y=\"error_ve\", data=df[df['delay']], \n",
    "             ylabel=\"$\\Delta$ $v_{e}$ (-)\", **plotopts)"
   ]
  },
  {
   "cell_type": "code",
   "execution_count": null,
   "id": "9d7ffcee-c5af-43c3-8e46-38243c63e8f6",
   "metadata": {},
   "outputs": [],
   "source": [
    "resultsBA = bland_altman_statistics(data=df[df['delay']],par='error_Ktrans',grouptag='author')\n",
    "print(resultsBA)"
   ]
  },
  {
   "cell_type": "code",
   "execution_count": null,
   "id": "609b0b91-a592-43cc-adbc-9aadae45a809",
   "metadata": {
    "tags": []
   },
   "outputs": [],
   "source": [
    "resultsBA = bland_altman_statistics(data=df[df['delay']],par='error_ve',grouptag='author')\n",
    "print(resultsBA)"
   ]
  },
  {
   "cell_type": "markdown",
   "id": "f37bd2b6-f399-4358-8cd6-bb4f8c746c78",
   "metadata": {
    "tags": []
   },
   "source": [
    "## Notes\n",
    "\n",
    "Some contributions included only the forward model, no fitting routine. For those cases we used the curvefit module from scipy package to estimate the output parameters. In all other cases the contributed fitting routine was included."
   ]
  },
  {
   "cell_type": "markdown",
   "id": "4e681cb2-adc4-42be-b1aa-b72c1c85c0a5",
   "metadata": {
    "tags": []
   },
   "source": [
    "### References"
   ]
  }
 ],
 "metadata": {
  "kernelspec": {
   "display_name": "Python 3 (ipykernel)",
   "language": "python",
   "name": "python3"
  },
  "language_info": {
   "codemirror_mode": {
    "name": "ipython",
    "version": 3
   },
   "file_extension": ".py",
   "mimetype": "text/x-python",
   "name": "python",
   "nbconvert_exporter": "python",
   "pygments_lexer": "ipython3",
   "version": "3.9.13"
  }
 },
 "nbformat": 4,
 "nbformat_minor": 5
}
