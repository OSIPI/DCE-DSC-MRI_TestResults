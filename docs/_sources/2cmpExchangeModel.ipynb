{
 "cells": [
  {
   "cell_type": "markdown",
   "id": "d903c06c",
   "metadata": {},
   "source": [
    "# Two-compartment exchange model"
   ]
  },
  {
   "cell_type": "code",
   "execution_count": null,
   "id": "11eed78a",
   "metadata": {
    "tags": [
     "hide-input"
    ]
   },
   "outputs": [],
   "source": [
    "import os\n",
    "import numpy\n",
    "from matplotlib import pyplot\n",
    "import csv\n",
    "import pandas"
   ]
  },
  {
   "cell_type": "markdown",
   "id": "6bed0dd4-03ca-433b-9e8b-9e0eb3057968",
   "metadata": {
    "tags": []
   },
   "source": [
    "## Background\n",
    "some background on the method if necessary"
   ]
  },
  {
   "cell_type": "markdown",
   "id": "aa67cd38-ccb1-4308-bdbf-27b87a01ce79",
   "metadata": {
    "tags": []
   },
   "source": [
    "## Test data\n",
    "Explain data that is being used\n",
    "Tolerances"
   ]
  },
  {
   "cell_type": "markdown",
   "id": "7678fc79-0e66-4067-8ece-64e69dda8448",
   "metadata": {
    "tags": []
   },
   "source": [
    "## Import data"
   ]
  },
  {
   "cell_type": "markdown",
   "id": "a8f242dd-bce0-437b-9b5c-0474cfd08f8c",
   "metadata": {
    "tags": []
   },
   "source": [
    "## Results"
   ]
  },
  {
   "cell_type": "code",
   "execution_count": 4,
   "id": "f790d032-bd9d-4455-9791-5a302edee74b",
   "metadata": {},
   "outputs": [],
   "source": [
    "# prepare data for bland-altman like plots"
   ]
  },
  {
   "cell_type": "markdown",
   "id": "263ef524-5559-4316-83c5-3345938c1d7c",
   "metadata": {
    "tags": []
   },
   "source": [
    "## Notes\n",
    "Additional notes/remarks"
   ]
  },
  {
   "cell_type": "markdown",
   "id": "6d980fbd-6c29-4ffc-b364-eb61e8aa8edb",
   "metadata": {
    "tags": []
   },
   "source": [
    "### References"
   ]
  }
 ],
 "metadata": {
  "kernelspec": {
   "display_name": "Python 3 (ipykernel)",
   "language": "python",
   "name": "python3"
  },
  "language_info": {
   "codemirror_mode": {
    "name": "ipython",
    "version": 3
   },
   "file_extension": ".py",
   "mimetype": "text/x-python",
   "name": "python",
   "nbconvert_exporter": "python",
   "pygments_lexer": "ipython3",
   "version": "3.10.0"
  }
 },
 "nbformat": 4,
 "nbformat_minor": 5
}
